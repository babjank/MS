{
 "cells": [
  {
   "cell_type": "markdown",
   "metadata": {},
   "source": [
    "<div style=\"text-align: right\">Bjanka Bašić, travanj 2019.</div>\n",
    "\n",
    "# <div style=\"color:purple; text-align: center;\"> VJEROJATNOST </div>"
   ]
  },
  {
   "cell_type": "markdown",
   "metadata": {},
   "source": [
    "## <span style=\"color:purple\"> 0. Uvod </span>"
   ]
  },
  {
   "cell_type": "markdown",
   "metadata": {},
   "source": [
    "1814.godine Pierre-Simon Laplace je definirao vjerojatnost kao:\n",
    "\n",
    ">*Vjerojatnost je... dakle, jednostavno razlomak čiji je brojnik broj povoljnih slučajeva i čiji je nazivnik broj mogućih slučajeva ... kada nas ništa ne navodi na očekivanje da se bilo koji od ovih slučajeva dogodi više puta nego bilo koji drugi.*\n",
    "\n",
    "![Laplace](https://upload.wikimedia.org/wikipedia/commons/thumb/3/30/AduC_197_Laplace_%28P.S.%2C_marquis_de%2C_1749-1827%29.JPG/180px-AduC_197_Laplace_%28P.S.%2C_marquis_de%2C_1749-1827%29.JPG)\n",
    "<center><a href=\"https://en.wikipedia.org/wiki/Pierre-Simon_Laplace\">Pierre-Simon Laplace</a></center>\n",
    "\n",
    "\n",
    "To je zapravo vrlo dobra definicija **vjerojatnosti**, još samo trebamo precizno odrediti što su slučajevi za određeni eksperiment te naravno što su povoljni slučajevi. Definirajmo:\n",
    "\n",
    "\n",
    "- **Pokus:**\n",
    "  Pojava s neizvjesnim ishodom koju možemo promatrati.\n",
    "  <br>*Primjer: bacanje igraće kocke*\n",
    " \n",
    " \n",
    "- **Ishod:**\n",
    "  Rezultat pokusa. Nazivaju se i elementarni događaji.\n",
    "  <br>*Primjer:* `3`\n",
    "\n",
    "\n",
    "- **Prostor elementarnih događaja:**\n",
    "  Skup svih ishoda nekog pokusa. \n",
    "  <br>*Primjer:* $ \\Omega $ = `{1, 2, 3, 4, 5, 6}`\n",
    "\n",
    "\n",
    "- **Događaj:**\n",
    "  Podskup prostora elementarnih događaja koji imaju neko zajedničko svojstvo.\n",
    "  <br>*Primjer:* `A={pao je paran broj}={2, 4, 6}`\n",
    "\n",
    "\n",
    "- **Vjerojatnost:**\n",
    "  Funkcija definirana na događajima.  Vjetojatnost će uvijek biti broj između 0 (nemogući događaj) te 1 (siguran događaj).\n",
    "  <br>*Primjer, vjerojatnost događaja A je:* \n",
    "  $$ P(A)=\\frac{\\#A}{\\#\\Omega} = \\frac{3}{6} = \\frac{1}{2} $$"
   ]
  },
  {
   "cell_type": "markdown",
   "metadata": {},
   "source": [
    "### <span style=\"color:purple\"> Primjer: računanje vjerojatnosti korištenjem Pythona </span>"
   ]
  },
  {
   "cell_type": "code",
   "execution_count": 7,
   "metadata": {},
   "outputs": [],
   "source": [
    "import pandas as pd\n",
    "import numpy as np\n",
    "import sympy as sp\n",
    "import matplotlib.pyplot as plt\n",
    "import matplotlib.mlab as mlab\n",
    "%matplotlib inline\n",
    "\n",
    "from scipy import stats\n",
    "from IPython.display import display\n",
    "from IPython.display import Image\n",
    "from IPython.display import HTML\n",
    "from IPython.display import YouTubeVideo"
   ]
  },
  {
   "cell_type": "markdown",
   "metadata": {},
   "source": [
    "Koristeći definiciju koju je dao Laplace možemo jednostavno implementirati vjerojatnost pomoću Pythona."
   ]
  },
  {
   "cell_type": "code",
   "execution_count": 8,
   "metadata": {},
   "outputs": [],
   "source": [
    "from fractions import Fraction\n",
    "\n",
    "def P(A, omega):\n",
    "    return Fraction( len( A & omega ), len( omega ))"
   ]
  },
  {
   "cell_type": "markdown",
   "metadata": {},
   "source": [
    "Probajmo sada ovu funkciju na primjeru pokusa bacanja igraće kocke sa šest strana. Kolika je vjerojatnost da je pri bacanju kocke pao paran broj?\n",
    "Definirajmo prostor uzorka $ \\Omega $ i događaj A pa izračunajmo vjerojatnost:"
   ]
  },
  {
   "cell_type": "code",
   "execution_count": 9,
   "metadata": {},
   "outputs": [
    {
     "data": {
      "text/plain": [
       "Fraction(1, 2)"
      ]
     },
     "execution_count": 9,
     "metadata": {},
     "output_type": "execute_result"
    }
   ],
   "source": [
    "omega = {1, 2, 3, 4, 5, 6}\n",
    "A = {2, 4, 6}\n",
    "\n",
    "P(A, omega)"
   ]
  },
  {
   "cell_type": "markdown",
   "metadata": {},
   "source": [
    "No, ova funkcija je ograničena samo za računanje vjerojatnosti kada imamo skupove koji reprezentiraju događaje. Probajmo poboljšati funkciju tako da je događaj A zapravo predikat (npr.biti paran u ovom slučaju)"
   ]
  },
  {
   "cell_type": "markdown",
   "metadata": {},
   "source": [
    "### <span style=\"color:purple\"> Primjer: unaprijeđenje funkcije vjerojatnosti </span>"
   ]
  },
  {
   "cell_type": "code",
   "execution_count": 12,
   "metadata": {},
   "outputs": [],
   "source": [
    "def P(A, omega): \n",
    "    if predikat(A):\n",
    "        A = zadovoljava(A, omega)\n",
    "    return len( A & omega )/len( omega )\n",
    "\n",
    "predikat = callable\n",
    "\n",
    "def zadovoljava(predikat, skup):\n",
    "    return {a for a in skup if predikat(a)}"
   ]
  },
  {
   "cell_type": "code",
   "execution_count": 13,
   "metadata": {},
   "outputs": [
    {
     "data": {
      "text/plain": [
       "0.5"
      ]
     },
     "execution_count": 13,
     "metadata": {},
     "output_type": "execute_result"
    }
   ],
   "source": [
    "omega = {i for i in range(1,7)}\n",
    "def A(x):\n",
    "    return x%2==0\n",
    "\n",
    "P(A,omega)"
   ]
  }
 ],
 "metadata": {
  "kernelspec": {
   "display_name": "Python 3",
   "language": "python",
   "name": "python3"
  },
  "language_info": {
   "codemirror_mode": {
    "name": "ipython",
    "version": 3
   },
   "file_extension": ".py",
   "mimetype": "text/x-python",
   "name": "python",
   "nbconvert_exporter": "python",
   "pygments_lexer": "ipython3",
   "version": "3.7.1"
  }
 },
 "nbformat": 4,
 "nbformat_minor": 2
}
